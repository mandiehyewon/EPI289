{
 "cells": [
  {
   "cell_type": "code",
   "execution_count": 2,
   "metadata": {},
   "outputs": [
    {
     "data": {
      "text/html": [
       "<table>\n",
       "<thead><tr><th scope=col>X</th><th scope=col>id</th><th scope=col>smk</th><th scope=col>overwt</th><th scope=col>death</th><th scope=col>drink</th></tr></thead>\n",
       "<tbody>\n",
       "\t<tr><td>1     </td><td>111236</td><td>0     </td><td>0     </td><td>1     </td><td>0     </td></tr>\n",
       "\t<tr><td>2     </td><td>111239</td><td>0     </td><td>0     </td><td>1     </td><td>0     </td></tr>\n",
       "\t<tr><td>3     </td><td>111240</td><td>0     </td><td>0     </td><td>1     </td><td>0     </td></tr>\n",
       "\t<tr><td>4     </td><td>111242</td><td>0     </td><td>0     </td><td>1     </td><td>0     </td></tr>\n",
       "\t<tr><td>5     </td><td>111245</td><td>0     </td><td>0     </td><td>1     </td><td>0     </td></tr>\n",
       "\t<tr><td>6     </td><td>111249</td><td>0     </td><td>0     </td><td>1     </td><td>0     </td></tr>\n",
       "</tbody>\n",
       "</table>\n"
      ],
      "text/latex": [
       "\\begin{tabular}{r|llllll}\n",
       " X & id & smk & overwt & death & drink\\\\\n",
       "\\hline\n",
       "\t 1      & 111236 & 0      & 0      & 1      & 0     \\\\\n",
       "\t 2      & 111239 & 0      & 0      & 1      & 0     \\\\\n",
       "\t 3      & 111240 & 0      & 0      & 1      & 0     \\\\\n",
       "\t 4      & 111242 & 0      & 0      & 1      & 0     \\\\\n",
       "\t 5      & 111245 & 0      & 0      & 1      & 0     \\\\\n",
       "\t 6      & 111249 & 0      & 0      & 1      & 0     \\\\\n",
       "\\end{tabular}\n"
      ],
      "text/markdown": [
       "\n",
       "X | id | smk | overwt | death | drink | \n",
       "|---|---|---|---|---|---|\n",
       "| 1      | 111236 | 0      | 0      | 1      | 0      | \n",
       "| 2      | 111239 | 0      | 0      | 1      | 0      | \n",
       "| 3      | 111240 | 0      | 0      | 1      | 0      | \n",
       "| 4      | 111242 | 0      | 0      | 1      | 0      | \n",
       "| 5      | 111245 | 0      | 0      | 1      | 0      | \n",
       "| 6      | 111249 | 0      | 0      | 1      | 0      | \n",
       "\n",
       "\n"
      ],
      "text/plain": [
       "  X id     smk overwt death drink\n",
       "1 1 111236 0   0      1     0    \n",
       "2 2 111239 0   0      1     0    \n",
       "3 3 111240 0   0      1     0    \n",
       "4 4 111242 0   0      1     0    \n",
       "5 5 111245 0   0      1     0    \n",
       "6 6 111249 0   0      1     0    "
      ]
     },
     "metadata": {},
     "output_type": "display_data"
    }
   ],
   "source": [
    "df <- read.csv(\"hmwk1.csv\")\n",
    "head(df)"
   ]
  },
  {
   "cell_type": "code",
   "execution_count": 4,
   "metadata": {},
   "outputs": [
    {
     "data": {
      "text/plain": [
       "\n",
       "Call:\n",
       "glm(formula = death ~ smk, family = binomial(), data = df)\n",
       "\n",
       "Deviance Residuals: \n",
       "    Min       1Q   Median       3Q      Max  \n",
       "-1.7734  -0.8667   0.6821   0.6821   1.5239  \n",
       "\n",
       "Coefficients:\n",
       "            Estimate Std. Error z value Pr(>|z|)    \n",
       "(Intercept)  -0.7855     0.1532  -5.126 2.96e-07 ***\n",
       "smk           2.1253     0.2284   9.306  < 2e-16 ***\n",
       "---\n",
       "Signif. codes:  0 ‘***’ 0.001 ‘**’ 0.01 ‘*’ 0.05 ‘.’ 0.1 ‘ ’ 1\n",
       "\n",
       "(Dispersion parameter for binomial family taken to be 1)\n",
       "\n",
       "    Null deviance: 562.27  on 409  degrees of freedom\n",
       "Residual deviance: 462.68  on 408  degrees of freedom\n",
       "AIC: 466.68\n",
       "\n",
       "Number of Fisher Scoring iterations: 4\n"
      ]
     },
     "metadata": {},
     "output_type": "display_data"
    }
   ],
   "source": [
    "# fit the logistic regression model\n",
    "model <- glm(death ~ smk, data = df, family = binomial())\n",
    "\n",
    "# summary of the model\n",
    "summary(model)"
   ]
  },
  {
   "cell_type": "markdown",
   "metadata": {},
   "source": [
    "# Model with the interaction term between drink and smoking"
   ]
  },
  {
   "cell_type": "code",
   "execution_count": 5,
   "metadata": {},
   "outputs": [
    {
     "data": {
      "text/plain": [
       "\n",
       "Call:\n",
       "glm(formula = death ~ drink + smk + drink_smk, family = binomial(), \n",
       "    data = df)\n",
       "\n",
       "Deviance Residuals: \n",
       "    Min       1Q   Median       3Q      Max  \n",
       "-2.0794  -0.9196   0.4945   0.9837   1.6221  \n",
       "\n",
       "Coefficients:\n",
       "            Estimate Std. Error z value Pr(>|z|)    \n",
       "(Intercept)  -1.0033     0.2492  -4.025 5.69e-05 ***\n",
       "drink         0.3614     0.3167   1.141   0.2537    \n",
       "smk           1.4778     0.3465   4.265 2.00e-05 ***\n",
       "drink_smk     1.2037     0.4784   2.516   0.0119 *  \n",
       "---\n",
       "Signif. codes:  0 ‘***’ 0.001 ‘**’ 0.01 ‘*’ 0.05 ‘.’ 0.1 ‘ ’ 1\n",
       "\n",
       "(Dispersion parameter for binomial family taken to be 1)\n",
       "\n",
       "    Null deviance: 562.27  on 409  degrees of freedom\n",
       "Residual deviance: 441.29  on 406  degrees of freedom\n",
       "AIC: 449.29\n",
       "\n",
       "Number of Fisher Scoring iterations: 4\n"
      ]
     },
     "metadata": {},
     "output_type": "display_data"
    }
   ],
   "source": [
    "# load the data into a data frame object\n",
    "df <- read.csv(\"hmwk1.csv\")\n",
    "\n",
    "# create a new variable for the interaction term between drink and smk\n",
    "df$drink_smk <- df$drink * df$smk\n",
    "\n",
    "# fit the logistic regression model\n",
    "model <- glm(death ~ drink + smk + drink_smk, data = df, family = binomial())\n",
    "# The argument family = binomial() specifies that the response variable is binary. \n",
    "\n",
    "# summary of the model\n",
    "summary(model)"
   ]
  },
  {
   "cell_type": "markdown",
   "metadata": {},
   "source": [
    "# Model with smoking, overweight as covariate"
   ]
  },
  {
   "cell_type": "code",
   "execution_count": 6,
   "metadata": {},
   "outputs": [
    {
     "data": {
      "text/plain": [
       "\n",
       "Call:\n",
       "glm(formula = death ~ smk + overwt, family = binomial(), data = df)\n",
       "\n",
       "Deviance Residuals: \n",
       "    Min       1Q   Median       3Q      Max  \n",
       "-1.9729  -0.9778   0.5552   0.7399   1.6774  \n",
       "\n",
       "Coefficients:\n",
       "            Estimate Std. Error z value Pr(>|z|)    \n",
       "(Intercept)  -1.1259     0.2077  -5.421 5.94e-08 ***\n",
       "smk           2.2816     0.2430   9.391  < 2e-16 ***\n",
       "overwt        0.6363     0.2448   2.599  0.00936 ** \n",
       "---\n",
       "Signif. codes:  0 ‘***’ 0.001 ‘**’ 0.01 ‘*’ 0.05 ‘.’ 0.1 ‘ ’ 1\n",
       "\n",
       "(Dispersion parameter for binomial family taken to be 1)\n",
       "\n",
       "    Null deviance: 562.27  on 409  degrees of freedom\n",
       "Residual deviance: 455.66  on 407  degrees of freedom\n",
       "AIC: 461.66\n",
       "\n",
       "Number of Fisher Scoring iterations: 4\n"
      ]
     },
     "metadata": {},
     "output_type": "display_data"
    }
   ],
   "source": [
    "# fit the logistic regression model\n",
    "model <- glm(death ~ smk + overwt, data = df, family = binomial())\n",
    "\n",
    "# summary of the model\n",
    "summary(model)"
   ]
  },
  {
   "cell_type": "markdown",
   "metadata": {},
   "source": [
    "The first line reads the csv file into a data frame named df. The second line uses the glm() function to fit a logistic regression model, where the response variable is \"death\" and the predictor variables are \"smk\" and \"overwt\". The argument family = binomial() specifies that the response variable is binary. The third line uses the summary() function to display the summary of the model."
   ]
  },
  {
   "cell_type": "markdown",
   "metadata": {},
   "source": [
    "# Causal model"
   ]
  },
  {
   "cell_type": "code",
   "execution_count": 7,
   "metadata": {},
   "outputs": [
    {
     "data": {
      "text/html": [
       "<table>\n",
       "<thead><tr><th scope=col>seqn</th><th scope=col>qsmk</th><th scope=col>death</th><th scope=col>yrdth</th><th scope=col>modth</th><th scope=col>dadth</th><th scope=col>sbp</th><th scope=col>dbp</th><th scope=col>sex</th><th scope=col>age</th><th scope=col>⋯</th><th scope=col>birthcontrol</th><th scope=col>pregnancies</th><th scope=col>cholesterol</th><th scope=col>hightax82</th><th scope=col>price71</th><th scope=col>price82</th><th scope=col>tax71</th><th scope=col>tax82</th><th scope=col>price71_82</th><th scope=col>tax71_82</th></tr></thead>\n",
       "<tbody>\n",
       "\t<tr><td>233       </td><td>0         </td><td>0         </td><td>NA        </td><td>NA        </td><td>NA        </td><td>175       </td><td>96        </td><td>0         </td><td>42        </td><td>⋯         </td><td>2         </td><td>NA        </td><td>197       </td><td>0         </td><td>2.183594  </td><td>1.739990  </td><td>1.1022949 </td><td>0.4619751 </td><td>0.44378662</td><td>0.6403809 </td></tr>\n",
       "\t<tr><td>235       </td><td>0         </td><td>0         </td><td>NA        </td><td>NA        </td><td>NA        </td><td>123       </td><td>80        </td><td>0         </td><td>36        </td><td>⋯         </td><td>2         </td><td>NA        </td><td>301       </td><td>0         </td><td>2.346680  </td><td>1.797363  </td><td>1.3649902 </td><td>0.5718994 </td><td>0.54931641</td><td>0.7929688 </td></tr>\n",
       "\t<tr><td>244       </td><td>0         </td><td>0         </td><td>NA        </td><td>NA        </td><td>NA        </td><td>115       </td><td>75        </td><td>1         </td><td>56        </td><td>⋯         </td><td>0         </td><td> 2        </td><td>157       </td><td>0         </td><td>1.569580  </td><td>1.513428  </td><td>0.5512695 </td><td>0.2309875 </td><td>0.05619812</td><td>0.3202515 </td></tr>\n",
       "\t<tr><td>245       </td><td>0         </td><td>1         </td><td>85        </td><td> 2        </td><td>14        </td><td>148       </td><td>78        </td><td>0         </td><td>68        </td><td>⋯         </td><td>2         </td><td>NA        </td><td>174       </td><td>0         </td><td>1.506592  </td><td>1.451904  </td><td>0.5249023 </td><td>0.2199707 </td><td>0.05479431</td><td>0.3049927 </td></tr>\n",
       "\t<tr><td>252       </td><td>0         </td><td>0         </td><td>NA        </td><td>NA        </td><td>NA        </td><td>118       </td><td>77        </td><td>0         </td><td>40        </td><td>⋯         </td><td>2         </td><td>NA        </td><td>216       </td><td>0         </td><td>2.346680  </td><td>1.797363  </td><td>1.3649902 </td><td>0.5718994 </td><td>0.54931641</td><td>0.7929688 </td></tr>\n",
       "\t<tr><td>257       </td><td>0         </td><td>0         </td><td>NA        </td><td>NA        </td><td>NA        </td><td>141       </td><td>83        </td><td>1         </td><td>43        </td><td>⋯         </td><td>0         </td><td> 1        </td><td>212       </td><td>1         </td><td>2.209961  </td><td>2.025879  </td><td>1.1547852 </td><td>0.7479248 </td><td>0.18408203</td><td>0.4069824 </td></tr>\n",
       "</tbody>\n",
       "</table>\n"
      ],
      "text/latex": [
       "\\begin{tabular}{r|llllllllllllllllllllllllllllllllllllllllllllllllllllllllllllllll}\n",
       " seqn & qsmk & death & yrdth & modth & dadth & sbp & dbp & sex & age & ⋯ & birthcontrol & pregnancies & cholesterol & hightax82 & price71 & price82 & tax71 & tax82 & price71\\_82 & tax71\\_82\\\\\n",
       "\\hline\n",
       "\t 233        & 0          & 0          & NA         & NA         & NA         & 175        & 96         & 0          & 42         & ⋯          & 2          & NA         & 197        & 0          & 2.183594   & 1.739990   & 1.1022949  & 0.4619751  & 0.44378662 & 0.6403809 \\\\\n",
       "\t 235        & 0          & 0          & NA         & NA         & NA         & 123        & 80         & 0          & 36         & ⋯          & 2          & NA         & 301        & 0          & 2.346680   & 1.797363   & 1.3649902  & 0.5718994  & 0.54931641 & 0.7929688 \\\\\n",
       "\t 244        & 0          & 0          & NA         & NA         & NA         & 115        & 75         & 1          & 56         & ⋯          & 0          &  2         & 157        & 0          & 1.569580   & 1.513428   & 0.5512695  & 0.2309875  & 0.05619812 & 0.3202515 \\\\\n",
       "\t 245        & 0          & 1          & 85         &  2         & 14         & 148        & 78         & 0          & 68         & ⋯          & 2          & NA         & 174        & 0          & 1.506592   & 1.451904   & 0.5249023  & 0.2199707  & 0.05479431 & 0.3049927 \\\\\n",
       "\t 252        & 0          & 0          & NA         & NA         & NA         & 118        & 77         & 0          & 40         & ⋯          & 2          & NA         & 216        & 0          & 2.346680   & 1.797363   & 1.3649902  & 0.5718994  & 0.54931641 & 0.7929688 \\\\\n",
       "\t 257        & 0          & 0          & NA         & NA         & NA         & 141        & 83         & 1          & 43         & ⋯          & 0          &  1         & 212        & 1          & 2.209961   & 2.025879   & 1.1547852  & 0.7479248  & 0.18408203 & 0.4069824 \\\\\n",
       "\\end{tabular}\n"
      ],
      "text/markdown": [
       "\n",
       "seqn | qsmk | death | yrdth | modth | dadth | sbp | dbp | sex | age | ⋯ | birthcontrol | pregnancies | cholesterol | hightax82 | price71 | price82 | tax71 | tax82 | price71_82 | tax71_82 | \n",
       "|---|---|---|---|---|---|\n",
       "| 233        | 0          | 0          | NA         | NA         | NA         | 175        | 96         | 0          | 42         | ⋯          | 2          | NA         | 197        | 0          | 2.183594   | 1.739990   | 1.1022949  | 0.4619751  | 0.44378662 | 0.6403809  | \n",
       "| 235        | 0          | 0          | NA         | NA         | NA         | 123        | 80         | 0          | 36         | ⋯          | 2          | NA         | 301        | 0          | 2.346680   | 1.797363   | 1.3649902  | 0.5718994  | 0.54931641 | 0.7929688  | \n",
       "| 244        | 0          | 0          | NA         | NA         | NA         | 115        | 75         | 1          | 56         | ⋯          | 0          |  2         | 157        | 0          | 1.569580   | 1.513428   | 0.5512695  | 0.2309875  | 0.05619812 | 0.3202515  | \n",
       "| 245        | 0          | 1          | 85         |  2         | 14         | 148        | 78         | 0          | 68         | ⋯          | 2          | NA         | 174        | 0          | 1.506592   | 1.451904   | 0.5249023  | 0.2199707  | 0.05479431 | 0.3049927  | \n",
       "| 252        | 0          | 0          | NA         | NA         | NA         | 118        | 77         | 0          | 40         | ⋯          | 2          | NA         | 216        | 0          | 2.346680   | 1.797363   | 1.3649902  | 0.5718994  | 0.54931641 | 0.7929688  | \n",
       "| 257        | 0          | 0          | NA         | NA         | NA         | 141        | 83         | 1          | 43         | ⋯          | 0          |  1         | 212        | 1          | 2.209961   | 2.025879   | 1.1547852  | 0.7479248  | 0.18408203 | 0.4069824  | \n",
       "\n",
       "\n"
      ],
      "text/plain": [
       "  seqn qsmk death yrdth modth dadth sbp dbp sex age ⋯ birthcontrol pregnancies\n",
       "1 233  0    0     NA    NA    NA    175 96  0   42  ⋯ 2            NA         \n",
       "2 235  0    0     NA    NA    NA    123 80  0   36  ⋯ 2            NA         \n",
       "3 244  0    0     NA    NA    NA    115 75  1   56  ⋯ 0             2         \n",
       "4 245  0    1     85     2    14    148 78  0   68  ⋯ 2            NA         \n",
       "5 252  0    0     NA    NA    NA    118 77  0   40  ⋯ 2            NA         \n",
       "6 257  0    0     NA    NA    NA    141 83  1   43  ⋯ 0             1         \n",
       "  cholesterol hightax82 price71  price82  tax71     tax82     price71_82\n",
       "1 197         0         2.183594 1.739990 1.1022949 0.4619751 0.44378662\n",
       "2 301         0         2.346680 1.797363 1.3649902 0.5718994 0.54931641\n",
       "3 157         0         1.569580 1.513428 0.5512695 0.2309875 0.05619812\n",
       "4 174         0         1.506592 1.451904 0.5249023 0.2199707 0.05479431\n",
       "5 216         0         2.346680 1.797363 1.3649902 0.5718994 0.54931641\n",
       "6 212         1         2.209961 2.025879 1.1547852 0.7479248 0.18408203\n",
       "  tax71_82 \n",
       "1 0.6403809\n",
       "2 0.7929688\n",
       "3 0.3202515\n",
       "4 0.3049927\n",
       "5 0.7929688\n",
       "6 0.4069824"
      ]
     },
     "metadata": {},
     "output_type": "display_data"
    }
   ],
   "source": [
    "library(readxl)\n",
    "df <- read_excel(\"nhefs.xlsx\")\n",
    "head(df)"
   ]
  },
  {
   "cell_type": "code",
   "execution_count": 8,
   "metadata": {},
   "outputs": [
    {
     "data": {
      "text/html": [
       "<ol class=list-inline>\n",
       "\t<li>'seqn'</li>\n",
       "\t<li>'qsmk'</li>\n",
       "\t<li>'death'</li>\n",
       "\t<li>'yrdth'</li>\n",
       "\t<li>'modth'</li>\n",
       "\t<li>'dadth'</li>\n",
       "\t<li>'sbp'</li>\n",
       "\t<li>'dbp'</li>\n",
       "\t<li>'sex'</li>\n",
       "\t<li>'age'</li>\n",
       "\t<li>'race'</li>\n",
       "\t<li>'income'</li>\n",
       "\t<li>'marital'</li>\n",
       "\t<li>'school'</li>\n",
       "\t<li>'education'</li>\n",
       "\t<li>'ht'</li>\n",
       "\t<li>'wt71'</li>\n",
       "\t<li>'wt82'</li>\n",
       "\t<li>'wt82_71'</li>\n",
       "\t<li>'birthplace'</li>\n",
       "\t<li>'smokeintensity'</li>\n",
       "\t<li>'smkintensity82_71'</li>\n",
       "\t<li>'smokeyrs'</li>\n",
       "\t<li>'asthma'</li>\n",
       "\t<li>'bronch'</li>\n",
       "\t<li>'tb'</li>\n",
       "\t<li>'hf'</li>\n",
       "\t<li>'hbp'</li>\n",
       "\t<li>'pepticulcer'</li>\n",
       "\t<li>'colitis'</li>\n",
       "\t<li>'hepatitis'</li>\n",
       "\t<li>'chroniccough'</li>\n",
       "\t<li>'hayfever'</li>\n",
       "\t<li>'diabetes'</li>\n",
       "\t<li>'polio'</li>\n",
       "\t<li>'tumor'</li>\n",
       "\t<li>'nervousbreak'</li>\n",
       "\t<li>'alcoholpy'</li>\n",
       "\t<li>'alcoholfreq'</li>\n",
       "\t<li>'alcoholtype'</li>\n",
       "\t<li>'alcoholhowmuch'</li>\n",
       "\t<li>'pica'</li>\n",
       "\t<li>'headache'</li>\n",
       "\t<li>'otherpain'</li>\n",
       "\t<li>'weakheart'</li>\n",
       "\t<li>'allergies'</li>\n",
       "\t<li>'nerves'</li>\n",
       "\t<li>'lackpep'</li>\n",
       "\t<li>'hbpmed'</li>\n",
       "\t<li>'boweltrouble'</li>\n",
       "\t<li>'wtloss'</li>\n",
       "\t<li>'infection'</li>\n",
       "\t<li>'active'</li>\n",
       "\t<li>'exercise'</li>\n",
       "\t<li>'birthcontrol'</li>\n",
       "\t<li>'pregnancies'</li>\n",
       "\t<li>'cholesterol'</li>\n",
       "\t<li>'hightax82'</li>\n",
       "\t<li>'price71'</li>\n",
       "\t<li>'price82'</li>\n",
       "\t<li>'tax71'</li>\n",
       "\t<li>'tax82'</li>\n",
       "\t<li>'price71_82'</li>\n",
       "\t<li>'tax71_82'</li>\n",
       "</ol>\n"
      ],
      "text/latex": [
       "\\begin{enumerate*}\n",
       "\\item 'seqn'\n",
       "\\item 'qsmk'\n",
       "\\item 'death'\n",
       "\\item 'yrdth'\n",
       "\\item 'modth'\n",
       "\\item 'dadth'\n",
       "\\item 'sbp'\n",
       "\\item 'dbp'\n",
       "\\item 'sex'\n",
       "\\item 'age'\n",
       "\\item 'race'\n",
       "\\item 'income'\n",
       "\\item 'marital'\n",
       "\\item 'school'\n",
       "\\item 'education'\n",
       "\\item 'ht'\n",
       "\\item 'wt71'\n",
       "\\item 'wt82'\n",
       "\\item 'wt82\\_71'\n",
       "\\item 'birthplace'\n",
       "\\item 'smokeintensity'\n",
       "\\item 'smkintensity82\\_71'\n",
       "\\item 'smokeyrs'\n",
       "\\item 'asthma'\n",
       "\\item 'bronch'\n",
       "\\item 'tb'\n",
       "\\item 'hf'\n",
       "\\item 'hbp'\n",
       "\\item 'pepticulcer'\n",
       "\\item 'colitis'\n",
       "\\item 'hepatitis'\n",
       "\\item 'chroniccough'\n",
       "\\item 'hayfever'\n",
       "\\item 'diabetes'\n",
       "\\item 'polio'\n",
       "\\item 'tumor'\n",
       "\\item 'nervousbreak'\n",
       "\\item 'alcoholpy'\n",
       "\\item 'alcoholfreq'\n",
       "\\item 'alcoholtype'\n",
       "\\item 'alcoholhowmuch'\n",
       "\\item 'pica'\n",
       "\\item 'headache'\n",
       "\\item 'otherpain'\n",
       "\\item 'weakheart'\n",
       "\\item 'allergies'\n",
       "\\item 'nerves'\n",
       "\\item 'lackpep'\n",
       "\\item 'hbpmed'\n",
       "\\item 'boweltrouble'\n",
       "\\item 'wtloss'\n",
       "\\item 'infection'\n",
       "\\item 'active'\n",
       "\\item 'exercise'\n",
       "\\item 'birthcontrol'\n",
       "\\item 'pregnancies'\n",
       "\\item 'cholesterol'\n",
       "\\item 'hightax82'\n",
       "\\item 'price71'\n",
       "\\item 'price82'\n",
       "\\item 'tax71'\n",
       "\\item 'tax82'\n",
       "\\item 'price71\\_82'\n",
       "\\item 'tax71\\_82'\n",
       "\\end{enumerate*}\n"
      ],
      "text/markdown": [
       "1. 'seqn'\n",
       "2. 'qsmk'\n",
       "3. 'death'\n",
       "4. 'yrdth'\n",
       "5. 'modth'\n",
       "6. 'dadth'\n",
       "7. 'sbp'\n",
       "8. 'dbp'\n",
       "9. 'sex'\n",
       "10. 'age'\n",
       "11. 'race'\n",
       "12. 'income'\n",
       "13. 'marital'\n",
       "14. 'school'\n",
       "15. 'education'\n",
       "16. 'ht'\n",
       "17. 'wt71'\n",
       "18. 'wt82'\n",
       "19. 'wt82_71'\n",
       "20. 'birthplace'\n",
       "21. 'smokeintensity'\n",
       "22. 'smkintensity82_71'\n",
       "23. 'smokeyrs'\n",
       "24. 'asthma'\n",
       "25. 'bronch'\n",
       "26. 'tb'\n",
       "27. 'hf'\n",
       "28. 'hbp'\n",
       "29. 'pepticulcer'\n",
       "30. 'colitis'\n",
       "31. 'hepatitis'\n",
       "32. 'chroniccough'\n",
       "33. 'hayfever'\n",
       "34. 'diabetes'\n",
       "35. 'polio'\n",
       "36. 'tumor'\n",
       "37. 'nervousbreak'\n",
       "38. 'alcoholpy'\n",
       "39. 'alcoholfreq'\n",
       "40. 'alcoholtype'\n",
       "41. 'alcoholhowmuch'\n",
       "42. 'pica'\n",
       "43. 'headache'\n",
       "44. 'otherpain'\n",
       "45. 'weakheart'\n",
       "46. 'allergies'\n",
       "47. 'nerves'\n",
       "48. 'lackpep'\n",
       "49. 'hbpmed'\n",
       "50. 'boweltrouble'\n",
       "51. 'wtloss'\n",
       "52. 'infection'\n",
       "53. 'active'\n",
       "54. 'exercise'\n",
       "55. 'birthcontrol'\n",
       "56. 'pregnancies'\n",
       "57. 'cholesterol'\n",
       "58. 'hightax82'\n",
       "59. 'price71'\n",
       "60. 'price82'\n",
       "61. 'tax71'\n",
       "62. 'tax82'\n",
       "63. 'price71_82'\n",
       "64. 'tax71_82'\n",
       "\n",
       "\n"
      ],
      "text/plain": [
       " [1] \"seqn\"              \"qsmk\"              \"death\"            \n",
       " [4] \"yrdth\"             \"modth\"             \"dadth\"            \n",
       " [7] \"sbp\"               \"dbp\"               \"sex\"              \n",
       "[10] \"age\"               \"race\"              \"income\"           \n",
       "[13] \"marital\"           \"school\"            \"education\"        \n",
       "[16] \"ht\"                \"wt71\"              \"wt82\"             \n",
       "[19] \"wt82_71\"           \"birthplace\"        \"smokeintensity\"   \n",
       "[22] \"smkintensity82_71\" \"smokeyrs\"          \"asthma\"           \n",
       "[25] \"bronch\"            \"tb\"                \"hf\"               \n",
       "[28] \"hbp\"               \"pepticulcer\"       \"colitis\"          \n",
       "[31] \"hepatitis\"         \"chroniccough\"      \"hayfever\"         \n",
       "[34] \"diabetes\"          \"polio\"             \"tumor\"            \n",
       "[37] \"nervousbreak\"      \"alcoholpy\"         \"alcoholfreq\"      \n",
       "[40] \"alcoholtype\"       \"alcoholhowmuch\"    \"pica\"             \n",
       "[43] \"headache\"          \"otherpain\"         \"weakheart\"        \n",
       "[46] \"allergies\"         \"nerves\"            \"lackpep\"          \n",
       "[49] \"hbpmed\"            \"boweltrouble\"      \"wtloss\"           \n",
       "[52] \"infection\"         \"active\"            \"exercise\"         \n",
       "[55] \"birthcontrol\"      \"pregnancies\"       \"cholesterol\"      \n",
       "[58] \"hightax82\"         \"price71\"           \"price82\"          \n",
       "[61] \"tax71\"             \"tax82\"             \"price71_82\"       \n",
       "[64] \"tax71_82\"         "
      ]
     },
     "metadata": {},
     "output_type": "display_data"
    }
   ],
   "source": [
    "colnames(df)"
   ]
  },
  {
   "cell_type": "code",
   "execution_count": 16,
   "metadata": {},
   "outputs": [
    {
     "data": {
      "text/html": [
       "<table>\n",
       "<thead><tr><th scope=col>term</th><th scope=col>estimate</th><th scope=col>std.error</th><th scope=col>statistic</th><th scope=col>p.value</th><th scope=col>conf.low</th><th scope=col>conf.high</th></tr></thead>\n",
       "<tbody>\n",
       "\t<tr><td>qsmk       </td><td>-0.05681824</td><td>0.1625629  </td><td>-0.3495155 </td><td>0.7267024  </td><td>-0.3788769 </td><td>0.258943   </td></tr>\n",
       "</tbody>\n",
       "</table>\n"
      ],
      "text/latex": [
       "\\begin{tabular}{r|lllllll}\n",
       " term & estimate & std.error & statistic & p.value & conf.low & conf.high\\\\\n",
       "\\hline\n",
       "\t qsmk        & -0.05681824 & 0.1625629   & -0.3495155  & 0.7267024   & -0.3788769  & 0.258943   \\\\\n",
       "\\end{tabular}\n"
      ],
      "text/markdown": [
       "\n",
       "term | estimate | std.error | statistic | p.value | conf.low | conf.high | \n",
       "|---|\n",
       "| qsmk        | -0.05681824 | 0.1625629   | -0.3495155  | 0.7267024   | -0.3788769  | 0.258943    | \n",
       "\n",
       "\n"
      ],
      "text/plain": [
       "  term estimate    std.error statistic  p.value   conf.low   conf.high\n",
       "1 qsmk -0.05681824 0.1625629 -0.3495155 0.7267024 -0.3788769 0.258943 "
      ]
     },
     "metadata": {},
     "output_type": "display_data"
    }
   ],
   "source": [
    "library(dplyr)\n",
    "\n",
    "# Fit the logistic regression model\n",
    "fit <- glm(death ~ qsmk + sex + race + age + I(age^2), data = df, family = binomial)\n",
    "\n",
    "# Use broom to extract the odds ratio for 'qsmk'\n",
    "result <- tidy(fit, conf.int = TRUE) %>% \n",
    "  filter(term == \"qsmk\")\n",
    "\n",
    "# Print the result\n",
    "result"
   ]
  },
  {
   "cell_type": "code",
   "execution_count": 22,
   "metadata": {},
   "outputs": [
    {
     "data": {
      "text/html": [
       "<strong>qsmk:</strong> 0.944765771769266"
      ],
      "text/latex": [
       "\\textbf{qsmk:} 0.944765771769266"
      ],
      "text/markdown": [
       "**qsmk:** 0.944765771769266"
      ],
      "text/plain": [
       "     qsmk \n",
       "0.9447658 "
      ]
     },
     "metadata": {},
     "output_type": "display_data"
    },
    {
     "name": "stderr",
     "output_type": "stream",
     "text": [
      "Waiting for profiling to be done...\n"
     ]
    },
    {
     "data": {
      "text/html": [
       "<dl class=dl-horizontal>\n",
       "\t<dt>2.5 %</dt>\n",
       "\t\t<dd>0.684629895162493</dd>\n",
       "\t<dt>97.5 %</dt>\n",
       "\t\t<dd>1.29555992665133</dd>\n",
       "</dl>\n"
      ],
      "text/latex": [
       "\\begin{description*}\n",
       "\\item[2.5 \\textbackslash{}\\%] 0.684629895162493\n",
       "\\item[97.5 \\textbackslash{}\\%] 1.29555992665133\n",
       "\\end{description*}\n"
      ],
      "text/markdown": [
       "2.5 %\n",
       ":   0.68462989516249397.5 %\n",
       ":   1.29555992665133\n",
       "\n"
      ],
      "text/plain": [
       "    2.5 %    97.5 % \n",
       "0.6846299 1.2955599 "
      ]
     },
     "metadata": {},
     "output_type": "display_data"
    }
   ],
   "source": [
    "exp(coef(fit)[2])\n",
    "\n",
    "# Calculate the 95% confidence interval for the causal odds ratio\n",
    "exp(confint(fit)[2, ])"
   ]
  },
  {
   "cell_type": "code",
   "execution_count": 25,
   "metadata": {},
   "outputs": [
    {
     "data": {
      "text/html": [
       "<dl class=dl-horizontal>\n",
       "\t<dt>(Intercept)</dt>\n",
       "\t\t<dd>-4.68877660811841</dd>\n",
       "\t<dt>qsmk</dt>\n",
       "\t\t<dd>-0.0568182427725233</dd>\n",
       "\t<dt>sex</dt>\n",
       "\t\t<dd>-0.622653571089502</dd>\n",
       "\t<dt>race</dt>\n",
       "\t\t<dd>0.402785102594353</dd>\n",
       "\t<dt>age</dt>\n",
       "\t\t<dd>0.0232362579893534</dd>\n",
       "\t<dt>I(age^2)</dt>\n",
       "\t\t<dd>0.000974456310765213</dd>\n",
       "</dl>\n"
      ],
      "text/latex": [
       "\\begin{description*}\n",
       "\\item[(Intercept)] -4.68877660811841\n",
       "\\item[qsmk] -0.0568182427725233\n",
       "\\item[sex] -0.622653571089502\n",
       "\\item[race] 0.402785102594353\n",
       "\\item[age] 0.0232362579893534\n",
       "\\item[I(age\\textbackslash{}textasciicircum\\{\\}2)] 0.000974456310765213\n",
       "\\end{description*}\n"
      ],
      "text/markdown": [
       "(Intercept)\n",
       ":   -4.68877660811841qsmk\n",
       ":   -0.0568182427725233sex\n",
       ":   -0.622653571089502race\n",
       ":   0.402785102594353age\n",
       ":   0.0232362579893534I(age^2)\n",
       ":   0.000974456310765213\n",
       "\n"
      ],
      "text/plain": [
       "  (Intercept)          qsmk           sex          race           age \n",
       "-4.6887766081 -0.0568182428 -0.6226535711  0.4027851026  0.0232362580 \n",
       "     I(age^2) \n",
       " 0.0009744563 "
      ]
     },
     "metadata": {},
     "output_type": "display_data"
    }
   ],
   "source": [
    "coef(fit)"
   ]
  },
  {
   "cell_type": "code",
   "execution_count": 21,
   "metadata": {},
   "outputs": [
    {
     "data": {
      "text/html": [
       "<strong>qsmk:</strong> 0.964871235863098"
      ],
      "text/latex": [
       "\\textbf{qsmk:} 0.964871235863098"
      ],
      "text/markdown": [
       "**qsmk:** 0.964871235863098"
      ],
      "text/plain": [
       "     qsmk \n",
       "0.9648712 "
      ]
     },
     "metadata": {},
     "output_type": "display_data"
    },
    {
     "name": "stderr",
     "output_type": "stream",
     "text": [
      "Waiting for profiling to be done...\n"
     ]
    },
    {
     "data": {
      "text/html": [
       "<dl class=dl-horizontal>\n",
       "\t<dt>2.5 %</dt>\n",
       "\t\t<dd>0.695528100894567</dd>\n",
       "\t<dt>97.5 %</dt>\n",
       "\t\t<dd>1.33008182242258</dd>\n",
       "</dl>\n"
      ],
      "text/latex": [
       "\\begin{description*}\n",
       "\\item[2.5 \\textbackslash{}\\%] 0.695528100894567\n",
       "\\item[97.5 \\textbackslash{}\\%] 1.33008182242258\n",
       "\\end{description*}\n"
      ],
      "text/markdown": [
       "2.5 %\n",
       ":   0.69552810089456797.5 %\n",
       ":   1.33008182242258\n",
       "\n"
      ],
      "text/plain": [
       "    2.5 %    97.5 % \n",
       "0.6955281 1.3300818 "
      ]
     },
     "metadata": {},
     "output_type": "display_data"
    }
   ],
   "source": [
    "library(dplyr)\n",
    "\n",
    "# Create a model with a linear and a quadratic term for age and smokeyrs\n",
    "model <- glm(death ~ qsmk + sex + race + age + I(age^2) + smokeyrs + I(smokeyrs^2),\n",
    "             data = df, family = binomial(link = \"logit\"))\n",
    "\n",
    "# Calculate the causal odds ratio of smokers versus non-smokers\n",
    "exp(coef(model)[2])\n",
    "\n",
    "# Calculate the 95% confidence interval for the causal odds ratio\n",
    "exp(confint(model)[2, ])"
   ]
  },
  {
   "cell_type": "code",
   "execution_count": 19,
   "metadata": {},
   "outputs": [
    {
     "data": {
      "text/plain": [
       "\n",
       "Call:\n",
       "glm(formula = death ~ qsmk + sex + race + age + I(age^2) + smokeyrs + \n",
       "    I(smokeyrs^2), family = binomial(link = \"logit\"), data = df)\n",
       "\n",
       "Deviance Residuals: \n",
       "    Min       1Q   Median       3Q      Max  \n",
       "-2.0041  -0.5689  -0.3320  -0.2201   2.7700  \n",
       "\n",
       "Coefficients:\n",
       "                Estimate Std. Error z value Pr(>|z|)   \n",
       "(Intercept)   -4.6934140  1.4476158  -3.242  0.00119 **\n",
       "qsmk          -0.0357606  0.1652332  -0.216  0.82866   \n",
       "sex           -0.4487377  0.1587486  -2.827  0.00470 **\n",
       "race           0.4045068  0.2111220   1.916  0.05537 . \n",
       "age            0.0406545  0.0721082   0.564  0.57289   \n",
       "I(age^2)       0.0005345  0.0007067   0.756  0.44949   \n",
       "smokeyrs      -0.0263217  0.0399323  -0.659  0.50979   \n",
       "I(smokeyrs^2)  0.0009528  0.0006208   1.535  0.12485   \n",
       "---\n",
       "Signif. codes:  0 ‘***’ 0.001 ‘**’ 0.01 ‘*’ 0.05 ‘.’ 0.1 ‘ ’ 1\n",
       "\n",
       "(Dispersion parameter for binomial family taken to be 1)\n",
       "\n",
       "    Null deviance: 1608.5  on 1628  degrees of freedom\n",
       "Residual deviance: 1189.3  on 1621  degrees of freedom\n",
       "AIC: 1205.3\n",
       "\n",
       "Number of Fisher Scoring iterations: 6\n"
      ]
     },
     "metadata": {},
     "output_type": "display_data"
    }
   ],
   "source": [
    "summary(model)"
   ]
  },
  {
   "cell_type": "code",
   "execution_count": 20,
   "metadata": {},
   "outputs": [
    {
     "data": {
      "text/html": [
       "<table>\n",
       "<thead><tr><th scope=col>term</th><th scope=col>estimate</th><th scope=col>std.error</th><th scope=col>statistic</th><th scope=col>p.value</th><th scope=col>conf.low</th><th scope=col>conf.high</th></tr></thead>\n",
       "<tbody>\n",
       "\t<tr><td>qsmk       </td><td>-0.03576062</td><td>0.1652332  </td><td>-0.2164252 </td><td>0.8286563  </td><td>-0.3630839 </td><td>0.2852405  </td></tr>\n",
       "</tbody>\n",
       "</table>\n"
      ],
      "text/latex": [
       "\\begin{tabular}{r|lllllll}\n",
       " term & estimate & std.error & statistic & p.value & conf.low & conf.high\\\\\n",
       "\\hline\n",
       "\t qsmk        & -0.03576062 & 0.1652332   & -0.2164252  & 0.8286563   & -0.3630839  & 0.2852405  \\\\\n",
       "\\end{tabular}\n"
      ],
      "text/markdown": [
       "\n",
       "term | estimate | std.error | statistic | p.value | conf.low | conf.high | \n",
       "|---|\n",
       "| qsmk        | -0.03576062 | 0.1652332   | -0.2164252  | 0.8286563   | -0.3630839  | 0.2852405   | \n",
       "\n",
       "\n"
      ],
      "text/plain": [
       "  term estimate    std.error statistic  p.value   conf.low   conf.high\n",
       "1 qsmk -0.03576062 0.1652332 -0.2164252 0.8286563 -0.3630839 0.2852405"
      ]
     },
     "metadata": {},
     "output_type": "display_data"
    }
   ],
   "source": [
    "# Use broom to extract the odds ratio for 'qsmk'\n",
    "result <- tidy(model, conf.int = TRUE) %>% \n",
    "  filter(term == \"qsmk\")\n",
    "\n",
    "# Print the result\n",
    "result"
   ]
  },
  {
   "cell_type": "code",
   "execution_count": null,
   "metadata": {},
   "outputs": [],
   "source": []
  }
 ],
 "metadata": {
  "kernelspec": {
   "display_name": "R",
   "language": "R",
   "name": "ir"
  },
  "language_info": {
   "codemirror_mode": "r",
   "file_extension": ".r",
   "mimetype": "text/x-r-source",
   "name": "R",
   "pygments_lexer": "r",
   "version": "3.5.0"
  }
 },
 "nbformat": 4,
 "nbformat_minor": 2
}
